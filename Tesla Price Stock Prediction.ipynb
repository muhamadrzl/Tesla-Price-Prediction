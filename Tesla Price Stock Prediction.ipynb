{
  "cells": [
    {
      "cell_type": "code",
      "execution_count": 1,
      "metadata": {
        "id": "7ZhkVgA2baKo"
      },
      "outputs": [],
      "source": [
        "import numpy as np # linear algebra\n",
        "import pandas as pd # data processing, CSV file I/O (e.g. pd.read_csv)"
      ]
    },
    {
      "cell_type": "code",
      "execution_count": 2,
      "metadata": {
        "id": "LJ_8CnVKbaKv"
      },
      "outputs": [],
      "source": [
        "# Importing the libraries\n",
        "import matplotlib.pyplot as plt\n",
        "import datetime"
      ]
    },
    {
      "cell_type": "code",
      "execution_count": 3,
      "metadata": {
        "colab": {
          "base_uri": "https://localhost:8080/"
        },
        "id": "NU3E88Wvbrdp",
        "outputId": "24fde1bb-f4d4-48cf-da2e-4db459cd31a5"
      },
      "outputs": [
        {
          "output_type": "stream",
          "name": "stdout",
          "text": [
            "Mounted at /content/drive\n"
          ]
        }
      ],
      "source": [
        "from google.colab import drive\n",
        "drive.mount('/content/drive')"
      ]
    },
    {
      "cell_type": "code",
      "execution_count": 4,
      "metadata": {
        "id": "WBG9Ca6VbaKw"
      },
      "outputs": [],
      "source": [
        "#ubah pathnya sesuai lokasi dataset \n",
        "dataset=pd.read_csv('/content/drive/MyDrive/Google_Stock_Price_Train.csv - Google_Stock_Price_Train.csv.csv',index_col=\"Date\",parse_dates=True)"
      ]
    },
    {
      "cell_type": "markdown",
      "metadata": {
        "id": "aPJdMEaXbxw7"
      },
      "source": [
        "##Explore Dataset"
      ]
    },
    {
      "cell_type": "code",
      "execution_count": 5,
      "metadata": {
        "colab": {
          "base_uri": "https://localhost:8080/",
          "height": 237
        },
        "id": "f-GV5MmSbaKy",
        "outputId": "0ab2a8d3-0b8c-48c1-cffd-1bdf5bb4fa0a"
      },
      "outputs": [
        {
          "output_type": "execute_result",
          "data": {
            "text/plain": [
              "              Open    High     Low   Close      Volume\n",
              "Date                                                  \n",
              "2012-01-03  325.25  332.83  324.97  663.59   7,380,500\n",
              "2012-01-04  331.27  333.87  329.08  666.45   5,749,400\n",
              "2012-01-05  329.83  330.75  326.89  657.21   6,590,300\n",
              "2012-01-06  328.34  328.77  323.68  648.24   5,405,900\n",
              "2012-01-09  322.04  322.29  309.46  620.76  11,688,800"
            ],
            "text/html": [
              "\n",
              "  <div id=\"df-445951ef-a336-4ff2-81d7-1209f8e841c7\">\n",
              "    <div class=\"colab-df-container\">\n",
              "      <div>\n",
              "<style scoped>\n",
              "    .dataframe tbody tr th:only-of-type {\n",
              "        vertical-align: middle;\n",
              "    }\n",
              "\n",
              "    .dataframe tbody tr th {\n",
              "        vertical-align: top;\n",
              "    }\n",
              "\n",
              "    .dataframe thead th {\n",
              "        text-align: right;\n",
              "    }\n",
              "</style>\n",
              "<table border=\"1\" class=\"dataframe\">\n",
              "  <thead>\n",
              "    <tr style=\"text-align: right;\">\n",
              "      <th></th>\n",
              "      <th>Open</th>\n",
              "      <th>High</th>\n",
              "      <th>Low</th>\n",
              "      <th>Close</th>\n",
              "      <th>Volume</th>\n",
              "    </tr>\n",
              "    <tr>\n",
              "      <th>Date</th>\n",
              "      <th></th>\n",
              "      <th></th>\n",
              "      <th></th>\n",
              "      <th></th>\n",
              "      <th></th>\n",
              "    </tr>\n",
              "  </thead>\n",
              "  <tbody>\n",
              "    <tr>\n",
              "      <th>2012-01-03</th>\n",
              "      <td>325.25</td>\n",
              "      <td>332.83</td>\n",
              "      <td>324.97</td>\n",
              "      <td>663.59</td>\n",
              "      <td>7,380,500</td>\n",
              "    </tr>\n",
              "    <tr>\n",
              "      <th>2012-01-04</th>\n",
              "      <td>331.27</td>\n",
              "      <td>333.87</td>\n",
              "      <td>329.08</td>\n",
              "      <td>666.45</td>\n",
              "      <td>5,749,400</td>\n",
              "    </tr>\n",
              "    <tr>\n",
              "      <th>2012-01-05</th>\n",
              "      <td>329.83</td>\n",
              "      <td>330.75</td>\n",
              "      <td>326.89</td>\n",
              "      <td>657.21</td>\n",
              "      <td>6,590,300</td>\n",
              "    </tr>\n",
              "    <tr>\n",
              "      <th>2012-01-06</th>\n",
              "      <td>328.34</td>\n",
              "      <td>328.77</td>\n",
              "      <td>323.68</td>\n",
              "      <td>648.24</td>\n",
              "      <td>5,405,900</td>\n",
              "    </tr>\n",
              "    <tr>\n",
              "      <th>2012-01-09</th>\n",
              "      <td>322.04</td>\n",
              "      <td>322.29</td>\n",
              "      <td>309.46</td>\n",
              "      <td>620.76</td>\n",
              "      <td>11,688,800</td>\n",
              "    </tr>\n",
              "  </tbody>\n",
              "</table>\n",
              "</div>\n",
              "      <button class=\"colab-df-convert\" onclick=\"convertToInteractive('df-445951ef-a336-4ff2-81d7-1209f8e841c7')\"\n",
              "              title=\"Convert this dataframe to an interactive table.\"\n",
              "              style=\"display:none;\">\n",
              "        \n",
              "  <svg xmlns=\"http://www.w3.org/2000/svg\" height=\"24px\"viewBox=\"0 0 24 24\"\n",
              "       width=\"24px\">\n",
              "    <path d=\"M0 0h24v24H0V0z\" fill=\"none\"/>\n",
              "    <path d=\"M18.56 5.44l.94 2.06.94-2.06 2.06-.94-2.06-.94-.94-2.06-.94 2.06-2.06.94zm-11 1L8.5 8.5l.94-2.06 2.06-.94-2.06-.94L8.5 2.5l-.94 2.06-2.06.94zm10 10l.94 2.06.94-2.06 2.06-.94-2.06-.94-.94-2.06-.94 2.06-2.06.94z\"/><path d=\"M17.41 7.96l-1.37-1.37c-.4-.4-.92-.59-1.43-.59-.52 0-1.04.2-1.43.59L10.3 9.45l-7.72 7.72c-.78.78-.78 2.05 0 2.83L4 21.41c.39.39.9.59 1.41.59.51 0 1.02-.2 1.41-.59l7.78-7.78 2.81-2.81c.8-.78.8-2.07 0-2.86zM5.41 20L4 18.59l7.72-7.72 1.47 1.35L5.41 20z\"/>\n",
              "  </svg>\n",
              "      </button>\n",
              "      \n",
              "  <style>\n",
              "    .colab-df-container {\n",
              "      display:flex;\n",
              "      flex-wrap:wrap;\n",
              "      gap: 12px;\n",
              "    }\n",
              "\n",
              "    .colab-df-convert {\n",
              "      background-color: #E8F0FE;\n",
              "      border: none;\n",
              "      border-radius: 50%;\n",
              "      cursor: pointer;\n",
              "      display: none;\n",
              "      fill: #1967D2;\n",
              "      height: 32px;\n",
              "      padding: 0 0 0 0;\n",
              "      width: 32px;\n",
              "    }\n",
              "\n",
              "    .colab-df-convert:hover {\n",
              "      background-color: #E2EBFA;\n",
              "      box-shadow: 0px 1px 2px rgba(60, 64, 67, 0.3), 0px 1px 3px 1px rgba(60, 64, 67, 0.15);\n",
              "      fill: #174EA6;\n",
              "    }\n",
              "\n",
              "    [theme=dark] .colab-df-convert {\n",
              "      background-color: #3B4455;\n",
              "      fill: #D2E3FC;\n",
              "    }\n",
              "\n",
              "    [theme=dark] .colab-df-convert:hover {\n",
              "      background-color: #434B5C;\n",
              "      box-shadow: 0px 1px 3px 1px rgba(0, 0, 0, 0.15);\n",
              "      filter: drop-shadow(0px 1px 2px rgba(0, 0, 0, 0.3));\n",
              "      fill: #FFFFFF;\n",
              "    }\n",
              "  </style>\n",
              "\n",
              "      <script>\n",
              "        const buttonEl =\n",
              "          document.querySelector('#df-445951ef-a336-4ff2-81d7-1209f8e841c7 button.colab-df-convert');\n",
              "        buttonEl.style.display =\n",
              "          google.colab.kernel.accessAllowed ? 'block' : 'none';\n",
              "\n",
              "        async function convertToInteractive(key) {\n",
              "          const element = document.querySelector('#df-445951ef-a336-4ff2-81d7-1209f8e841c7');\n",
              "          const dataTable =\n",
              "            await google.colab.kernel.invokeFunction('convertToInteractive',\n",
              "                                                     [key], {});\n",
              "          if (!dataTable) return;\n",
              "\n",
              "          const docLinkHtml = 'Like what you see? Visit the ' +\n",
              "            '<a target=\"_blank\" href=https://colab.research.google.com/notebooks/data_table.ipynb>data table notebook</a>'\n",
              "            + ' to learn more about interactive tables.';\n",
              "          element.innerHTML = '';\n",
              "          dataTable['output_type'] = 'display_data';\n",
              "          await google.colab.output.renderOutput(dataTable, element);\n",
              "          const docLink = document.createElement('div');\n",
              "          docLink.innerHTML = docLinkHtml;\n",
              "          element.appendChild(docLink);\n",
              "        }\n",
              "      </script>\n",
              "    </div>\n",
              "  </div>\n",
              "  "
            ]
          },
          "metadata": {},
          "execution_count": 5
        }
      ],
      "source": [
        "dataset.head()"
      ]
    },
    {
      "cell_type": "code",
      "execution_count": 6,
      "metadata": {
        "id": "s5BLuj3vbaKz",
        "colab": {
          "base_uri": "https://localhost:8080/"
        },
        "outputId": "0a115c47-f02a-4520-c6ec-2dfc8982f682"
      },
      "outputs": [
        {
          "output_type": "stream",
          "name": "stdout",
          "text": [
            "<class 'pandas.core.frame.DataFrame'>\n",
            "DatetimeIndex: 1258 entries, 2012-01-03 to 2016-12-30\n",
            "Data columns (total 5 columns):\n",
            " #   Column  Non-Null Count  Dtype  \n",
            "---  ------  --------------  -----  \n",
            " 0   Open    1258 non-null   float64\n",
            " 1   High    1258 non-null   float64\n",
            " 2   Low     1258 non-null   float64\n",
            " 3   Close   1258 non-null   object \n",
            " 4   Volume  1258 non-null   object \n",
            "dtypes: float64(3), object(2)\n",
            "memory usage: 59.0+ KB\n"
          ]
        }
      ],
      "source": [
        "#code here\n",
        "dataset.info()"
      ]
    },
    {
      "cell_type": "code",
      "execution_count": 7,
      "metadata": {
        "id": "UXDqjQJ8baK0",
        "colab": {
          "base_uri": "https://localhost:8080/"
        },
        "outputId": "8b0fafd1-6e1f-4fb2-c342-f522a6deaf3f"
      },
      "outputs": [
        {
          "output_type": "execute_result",
          "data": {
            "text/plain": [
              "1258"
            ]
          },
          "metadata": {},
          "execution_count": 7
        }
      ],
      "source": [
        "len(dataset)"
      ]
    },
    {
      "cell_type": "code",
      "execution_count": 8,
      "metadata": {
        "id": "_jIM9DtQbaK0",
        "colab": {
          "base_uri": "https://localhost:8080/"
        },
        "outputId": "b68839b5-dce9-4f21-f979-77be9d1fe82d"
      },
      "outputs": [
        {
          "output_type": "execute_result",
          "data": {
            "text/plain": [
              "DatetimeIndex(['2012-01-03', '2012-01-04', '2012-01-05', '2012-01-06',\n",
              "               '2012-01-09', '2012-01-10', '2012-01-11', '2012-01-12',\n",
              "               '2012-01-13', '2012-01-17',\n",
              "               ...\n",
              "               '2016-12-16', '2016-12-19', '2016-12-20', '2016-12-21',\n",
              "               '2016-12-22', '2016-12-23', '2016-12-27', '2016-12-28',\n",
              "               '2016-12-29', '2016-12-30'],\n",
              "              dtype='datetime64[ns]', name='Date', length=1258, freq=None)"
            ]
          },
          "metadata": {},
          "execution_count": 8
        }
      ],
      "source": [
        "dataset.index"
      ]
    },
    {
      "cell_type": "markdown",
      "metadata": {
        "id": "kFgWjQfyb6QO"
      },
      "source": [
        "#Visualize"
      ]
    },
    {
      "cell_type": "code",
      "execution_count": 9,
      "metadata": {
        "colab": {
          "base_uri": "https://localhost:8080/",
          "height": 385
        },
        "id": "_oHijB40baK3",
        "outputId": "2b6bade5-df82-486e-d5e1-4f0f08af7fc0"
      },
      "outputs": [
        {
          "output_type": "execute_result",
          "data": {
            "text/plain": [
              "<matplotlib.axes._subplots.AxesSubplot at 0x7f7ce24d9b90>"
            ]
          },
          "metadata": {},
          "execution_count": 9
        },
        {
          "output_type": "display_data",
          "data": {
            "text/plain": [
              "<Figure size 1152x432 with 1 Axes>"
            ],
            "image/png": "[encoded data removed]"
          },
          "metadata": {
            "needs_background": "light"
          }
        }
      ],
      "source": [
        "dataset['Open'].plot(figsize=(16,6))"
      ]
    },
    {
      "cell_type": "code",
      "execution_count": 10,
      "metadata": {
        "id": "3hRFu3jobaK3"
      },
      "outputs": [],
      "source": [
        "# convert column \"a\" of a DataFrame\n",
        "dataset[\"Close\"] = dataset[\"Close\"].str.replace(',', '').astype(float)"
      ]
    },
    {
      "cell_type": "code",
      "execution_count": 11,
      "metadata": {
        "id": "SmGIl9ANbaK4"
      },
      "outputs": [],
      "source": [
        "dataset[\"Volume\"] = dataset[\"Volume\"].str.replace(',', '').astype(float)"
      ]
    },
    {
      "cell_type": "code",
      "execution_count": 12,
      "metadata": {
        "colab": {
          "base_uri": "https://localhost:8080/",
          "height": 708
        },
        "id": "3GRnmEB0baK6",
        "outputId": "d2c355ef-702a-408e-da31-4c9fd344d6bb"
      },
      "outputs": [
        {
          "output_type": "execute_result",
          "data": {
            "text/plain": [
              "                  Open        High         Low       Close        Volume\n",
              "Date                                                                    \n",
              "2012-01-03         NaN         NaN         NaN         NaN           NaN\n",
              "2012-01-04         NaN         NaN         NaN         NaN           NaN\n",
              "2012-01-05         NaN         NaN         NaN         NaN           NaN\n",
              "2012-01-06         NaN         NaN         NaN         NaN           NaN\n",
              "2012-01-09         NaN         NaN         NaN         NaN           NaN\n",
              "2012-01-10         NaN         NaN         NaN         NaN           NaN\n",
              "2012-01-11  323.002857  325.392857  318.682857  643.132857  7.208100e+06\n",
              "2012-01-12  321.457143  322.882857  316.841429  638.037143  6.691514e+06\n",
              "2012-01-13  318.698571  319.801429  314.025714  631.870000  6.531857e+06\n",
              "2012-01-17  316.552857  317.524286  311.851429  627.534286  6.137929e+06\n",
              "2012-01-18  314.238571  315.674286  309.882857  625.097143  6.157657e+06\n",
              "2012-01-19  313.847143  315.247143  310.610000  627.534286  6.296086e+06\n",
              "2012-01-20  311.055714  312.201429  308.104286  622.242857  8.068629e+06\n",
              "2012-01-23  308.387143  309.302857  305.402857  616.481429  8.359129e+06\n",
              "2012-01-24  305.192857  306.085714  301.951429  609.541429  8.697700e+06\n",
              "2012-01-25  301.724286  302.652857  298.060000  601.634286  9.466400e+06\n",
              "2012-01-26  297.454286  298.561429  293.710000  593.017143  9.844071e+06\n",
              "2012-01-27  293.480000  294.741429  289.952857  585.475714  1.008950e+07\n",
              "2012-01-30  289.001429  290.401429  285.821429  576.660000  8.949586e+06\n",
              "2012-01-31  288.465714  289.902857  285.355714  575.821429  6.530857e+06"
            ],
            "text/html": [
              "\n",
              "  <div id=\"df-bb34bd0d-c7a7-4fd2-9445-36c477b401cd\">\n",
              "    <div class=\"colab-df-container\">\n",
              "      <div>\n",
              "<style scoped>\n",
              "    .dataframe tbody tr th:only-of-type {\n",
              "        vertical-align: middle;\n",
              "    }\n",
              "\n",
              "    .dataframe tbody tr th {\n",
              "        vertical-align: top;\n",
              "    }\n",
              "\n",
              "    .dataframe thead th {\n",
              "        text-align: right;\n",
              "    }\n",
              "</style>\n",
              "<table border=\"1\" class=\"dataframe\">\n",
              "  <thead>\n",
              "    <tr style=\"text-align: right;\">\n",
              "      <th></th>\n",
              "      <th>Open</th>\n",
              "      <th>High</th>\n",
              "      <th>Low</th>\n",
              "      <th>Close</th>\n",
              "      <th>Volume</th>\n",
              "    </tr>\n",
              "    <tr>\n",
              "      <th>Date</th>\n",
              "      <th></th>\n",
              "      <th></th>\n",
              "      <th></th>\n",
              "      <th></th>\n",
              "      <th></th>\n",
              "    </tr>\n",
              "  </thead>\n",
              "  <tbody>\n",
              "    <tr>\n",
              "      <th>2012-01-03</th>\n",
              "      <td>NaN</td>\n",
              "      <td>NaN</td>\n",
              "      <td>NaN</td>\n",
              "      <td>NaN</td>\n",
              "      <td>NaN</td>\n",
              "    </tr>\n",
              "    <tr>\n",
              "      <th>2012-01-04</th>\n",
              "      <td>NaN</td>\n",
              "      <td>NaN</td>\n",
              "      <td>NaN</td>\n",
              "      <td>NaN</td>\n",
              "      <td>NaN</td>\n",
              "    </tr>\n",
              "    <tr>\n",
              "      <th>2012-01-05</th>\n",
              "      <td>NaN</td>\n",
              "      <td>NaN</td>\n",
              "      <td>NaN</td>\n",
              "      <td>NaN</td>\n",
              "      <td>NaN</td>\n",
              "    </tr>\n",
              "    <tr>\n",
              "      <th>2012-01-06</th>\n",
              "      <td>NaN</td>\n",
              "      <td>NaN</td>\n",
              "      <td>NaN</td>\n",
              "      <td>NaN</td>\n",
              "      <td>NaN</td>\n",
              "    </tr>\n",
              "    <tr>\n",
              "      <th>2012-01-09</th>\n",
              "      <td>NaN</td>\n",
              "      <td>NaN</td>\n",
              "      <td>NaN</td>\n",
              "      <td>NaN</td>\n",
              "      <td>NaN</td>\n",
              "    </tr>\n",
              "    <tr>\n",
              "      <th>2012-01-10</th>\n",
              "      <td>NaN</td>\n",
              "      <td>NaN</td>\n",
              "      <td>NaN</td>\n",
              "      <td>NaN</td>\n",
              "      <td>NaN</td>\n",
              "    </tr>\n",
              "    <tr>\n",
              "      <th>2012-01-11</th>\n",
              "      <td>323.002857</td>\n",
              "      <td>325.392857</td>\n",
              "      <td>318.682857</td>\n",
              "      <td>643.132857</td>\n",
              "      <td>7.208100e+06</td>\n",
              "    </tr>\n",
              "    <tr>\n",
              "      <th>2012-01-12</th>\n",
              "      <td>321.457143</td>\n",
              "      <td>322.882857</td>\n",
              "      <td>316.841429</td>\n",
              "      <td>638.037143</td>\n",
              "      <td>6.691514e+06</td>\n",
              "    </tr>\n",
              "    <tr>\n",
              "      <th>2012-01-13</th>\n",
              "      <td>318.698571</td>\n",
              "      <td>319.801429</td>\n",
              "      <td>314.025714</td>\n",
              "      <td>631.870000</td>\n",
              "      <td>6.531857e+06</td>\n",
              "    </tr>\n",
              "    <tr>\n",
              "      <th>2012-01-17</th>\n",
              "      <td>316.552857</td>\n",
              "      <td>317.524286</td>\n",
              "      <td>311.851429</td>\n",
              "      <td>627.534286</td>\n",
              "      <td>6.137929e+06</td>\n",
              "    </tr>\n",
              "    <tr>\n",
              "      <th>2012-01-18</th>\n",
              "      <td>314.238571</td>\n",
              "      <td>315.674286</td>\n",
              "      <td>309.882857</td>\n",
              "      <td>625.097143</td>\n",
              "      <td>6.157657e+06</td>\n",
              "    </tr>\n",
              "    <tr>\n",
              "      <th>2012-01-19</th>\n",
              "      <td>313.847143</td>\n",
              "      <td>315.247143</td>\n",
              "      <td>310.610000</td>\n",
              "      <td>627.534286</td>\n",
              "      <td>6.296086e+06</td>\n",
              "    </tr>\n",
              "    <tr>\n",
              "      <th>2012-01-20</th>\n",
              "      <td>311.055714</td>\n",
              "      <td>312.201429</td>\n",
              "      <td>308.104286</td>\n",
              "      <td>622.242857</td>\n",
              "      <td>8.068629e+06</td>\n",
              "    </tr>\n",
              "    <tr>\n",
              "      <th>2012-01-23</th>\n",
              "      <td>308.387143</td>\n",
              "      <td>309.302857</td>\n",
              "      <td>305.402857</td>\n",
              "      <td>616.481429</td>\n",
              "      <td>8.359129e+06</td>\n",
              "    </tr>\n",
              "    <tr>\n",
              "      <th>2012-01-24</th>\n",
              "      <td>305.192857</td>\n",
              "      <td>306.085714</td>\n",
              "      <td>301.951429</td>\n",
              "      <td>609.541429</td>\n",
              "      <td>8.697700e+06</td>\n",
              "    </tr>\n",
              "    <tr>\n",
              "      <th>2012-01-25</th>\n",
              "      <td>301.724286</td>\n",
              "      <td>302.652857</td>\n",
              "      <td>298.060000</td>\n",
              "      <td>601.634286</td>\n",
              "      <td>9.466400e+06</td>\n",
              "    </tr>\n",
              "    <tr>\n",
              "      <th>2012-01-26</th>\n",
              "      <td>297.454286</td>\n",
              "      <td>298.561429</td>\n",
              "      <td>293.710000</td>\n",
              "      <td>593.017143</td>\n",
              "      <td>9.844071e+06</td>\n",
              "    </tr>\n",
              "    <tr>\n",
              "      <th>2012-01-27</th>\n",
              "      <td>293.480000</td>\n",
              "      <td>294.741429</td>\n",
              "      <td>289.952857</td>\n",
              "      <td>585.475714</td>\n",
              "      <td>1.008950e+07</td>\n",
              "    </tr>\n",
              "    <tr>\n",
              "      <th>2012-01-30</th>\n",
              "      <td>289.001429</td>\n",
              "      <td>290.401429</td>\n",
              "      <td>285.821429</td>\n",
              "      <td>576.660000</td>\n",
              "      <td>8.949586e+06</td>\n",
              "    </tr>\n",
              "    <tr>\n",
              "      <th>2012-01-31</th>\n",
              "      <td>288.465714</td>\n",
              "      <td>289.902857</td>\n",
              "      <td>285.355714</td>\n",
              "      <td>575.821429</td>\n",
              "      <td>6.530857e+06</td>\n",
              "    </tr>\n",
              "  </tbody>\n",
              "</table>\n",
              "</div>\n",
              "      <button class=\"colab-df-convert\" onclick=\"convertToInteractive('df-bb34bd0d-c7a7-4fd2-9445-36c477b401cd')\"\n",
              "              title=\"Convert this dataframe to an interactive table.\"\n",
              "              style=\"display:none;\">\n",
              "        \n",
              "  <svg xmlns=\"http://www.w3.org/2000/svg\" height=\"24px\"viewBox=\"0 0 24 24\"\n",
              "       width=\"24px\">\n",
              "    <path d=\"M0 0h24v24H0V0z\" fill=\"none\"/>\n",
              "    <path d=\"M18.56 5.44l.94 2.06.94-2.06 2.06-.94-2.06-.94-.94-2.06-.94 2.06-2.06.94zm-11 1L8.5 8.5l.94-2.06 2.06-.94-2.06-.94L8.5 2.5l-.94 2.06-2.06.94zm10 10l.94 2.06.94-2.06 2.06-.94-2.06-.94-.94-2.06-.94 2.06-2.06.94z\"/><path d=\"M17.41 7.96l-1.37-1.37c-.4-.4-.92-.59-1.43-.59-.52 0-1.04.2-1.43.59L10.3 9.45l-7.72 7.72c-.78.78-.78 2.05 0 2.83L4 21.41c.39.39.9.59 1.41.59.51 0 1.02-.2 1.41-.59l7.78-7.78 2.81-2.81c.8-.78.8-2.07 0-2.86zM5.41 20L4 18.59l7.72-7.72 1.47 1.35L5.41 20z\"/>\n",
              "  </svg>\n",
              "      </button>\n",
              "      \n",
              "  <style>\n",
              "    .colab-df-container {\n",
              "      display:flex;\n",
              "      flex-wrap:wrap;\n",
              "      gap: 12px;\n",
              "    }\n",
              "\n",
              "    .colab-df-convert {\n",
              "      background-color: #E8F0FE;\n",
              "      border: none;\n",
              "      border-radius: 50%;\n",
              "      cursor: pointer;\n",
              "      display: none;\n",
              "      fill: #1967D2;\n",
              "      height: 32px;\n",
              "      padding: 0 0 0 0;\n",
              "      width: 32px;\n",
              "    }\n",
              "\n",
              "    .colab-df-convert:hover {\n",
              "      background-color: #E2EBFA;\n",
              "      box-shadow: 0px 1px 2px rgba(60, 64, 67, 0.3), 0px 1px 3px 1px rgba(60, 64, 67, 0.15);\n",
              "      fill: #174EA6;\n",
              "    }\n",
              "\n",
              "    [theme=dark] .colab-df-convert {\n",
              "      background-color: #3B4455;\n",
              "      fill: #D2E3FC;\n",
              "    }\n",
              "\n",
              "    [theme=dark] .colab-df-convert:hover {\n",
              "      background-color: #434B5C;\n",
              "      box-shadow: 0px 1px 3px 1px rgba(0, 0, 0, 0.15);\n",
              "      filter: drop-shadow(0px 1px 2px rgba(0, 0, 0, 0.3));\n",
              "      fill: #FFFFFF;\n",
              "    }\n",
              "  </style>\n",
              "\n",
              "      <script>\n",
              "        const buttonEl =\n",
              "          document.querySelector('#df-bb34bd0d-c7a7-4fd2-9445-36c477b401cd button.colab-df-convert');\n",
              "        buttonEl.style.display =\n",
              "          google.colab.kernel.accessAllowed ? 'block' : 'none';\n",
              "\n",
              "        async function convertToInteractive(key) {\n",
              "          const element = document.querySelector('#df-bb34bd0d-c7a7-4fd2-9445-36c477b401cd');\n",
              "          const dataTable =\n",
              "            await google.colab.kernel.invokeFunction('convertToInteractive',\n",
              "                                                     [key], {});\n",
              "          if (!dataTable) return;\n",
              "\n",
              "          const docLinkHtml = 'Like what you see? Visit the ' +\n",
              "            '<a target=\"_blank\" href=https://colab.research.google.com/notebooks/data_table.ipynb>data table notebook</a>'\n",
              "            + ' to learn more about interactive tables.';\n",
              "          element.innerHTML = '';\n",
              "          dataTable['output_type'] = 'display_data';\n",
              "          await google.colab.output.renderOutput(dataTable, element);\n",
              "          const docLink = document.createElement('div');\n",
              "          docLink.innerHTML = docLinkHtml;\n",
              "          element.appendChild(docLink);\n",
              "        }\n",
              "      </script>\n",
              "    </div>\n",
              "  </div>\n",
              "  "
            ]
          },
          "metadata": {},
          "execution_count": 12
        }
      ],
      "source": [
        "# 7 day rolling mean\n",
        "dataset.rolling(7).mean().head(20)"
      ]
    },
    {
      "cell_type": "code",
      "execution_count": 13,
      "metadata": {
        "colab": {
          "base_uri": "https://localhost:8080/",
          "height": 385
        },
        "id": "xPgfc4FxbaK6",
        "outputId": "6b57249e-924b-4883-8fb5-08b4630715b9"
      },
      "outputs": [
        {
          "output_type": "execute_result",
          "data": {
            "text/plain": [
              "<matplotlib.axes._subplots.AxesSubplot at 0x7f7ce2445d50>"
            ]
          },
          "metadata": {},
          "execution_count": 13
        },
        {
          "output_type": "display_data",
          "data": {
            "text/plain": [
              "<Figure size 1152x432 with 1 Axes>"
            ],
            "image/png": "[encoded data removed]"
          },
          "metadata": {
            "needs_background": "light"
          }
        }
      ],
      "source": [
        "dataset['Open'].plot(figsize=(16,6))\n",
        "dataset.rolling(window=30).mean()['Open'].plot()"
      ]
    },
    {
      "cell_type": "code",
      "execution_count": 14,
      "metadata": {
        "id": "dj1BZwmibaK8"
      },
      "outputs": [],
      "source": [
        "training_set=dataset['Open']\n",
        "training_set=pd.DataFrame(training_set)"
      ]
    },
    {
      "cell_type": "code",
      "execution_count": 15,
      "metadata": {
        "id": "KfqmiFX0baK9"
      },
      "outputs": [],
      "source": [
        "# Feature Scaling\n",
        "from sklearn.preprocessing import MinMaxScaler\n",
        "sc = MinMaxScaler(feature_range = (0, 1))\n",
        "training_set_scaled = sc.fit_transform(training_set)"
      ]
    },
    {
      "cell_type": "code",
      "execution_count": 16,
      "metadata": {
        "id": "j3dxNWPwbaK9"
      },
      "outputs": [],
      "source": [
        "# Creating a data structure with 60 timesteps and 1 output\n",
        "X_train = []\n",
        "y_train = []\n",
        "for i in range(60, 1258):\n",
        "    X_train.append(training_set_scaled[i-60:i, 0])\n",
        "    y_train.append(training_set_scaled[i, 0])\n",
        "X_train, y_train = np.array(X_train), np.array(y_train)\n",
        "\n",
        "# Reshaping\n",
        "X_train = np.reshape(X_train, (X_train.shape[0], X_train.shape[1], 1))"
      ]
    },
    {
      "cell_type": "code",
      "execution_count": 17,
      "metadata": {
        "colab": {
          "base_uri": "https://localhost:8080/"
        },
        "id": "pktOLr8hozZ6",
        "outputId": "e5e10e93-7f4a-464e-dce8-9005766cf7bc"
      },
      "outputs": [
        {
          "output_type": "execute_result",
          "data": {
            "text/plain": [
              "(1198, 60, 1)"
            ]
          },
          "metadata": {},
          "execution_count": 17
        }
      ],
      "source": [
        "X_train.shape"
      ]
    },
    {
      "cell_type": "code",
      "execution_count": 18,
      "metadata": {
        "id": "FUFcQ8PhbaK9"
      },
      "outputs": [],
      "source": [
        "#Building the RNN\n",
        "#Importing the Keras libraries and packages\n",
        "from keras.models import Sequential\n",
        "from keras.layers import Dense\n",
        "from keras.layers import LSTM\n",
        "from keras.layers import Dropout"
      ]
    },
    {
      "cell_type": "code",
      "execution_count": 19,
      "metadata": {
        "id": "DSGMiaJKbaK-"
      },
      "outputs": [],
      "source": [
        "# Initialising the RNN\n",
        "model = Sequential()"
      ]
    },
    {
      "cell_type": "code",
      "execution_count": 20,
      "metadata": {
        "colab": {
          "base_uri": "https://localhost:8080/"
        },
        "id": "LZ34x4R-baK-",
        "outputId": "dbc41712-6088-4a23-97bd-33562bd4a82d"
      },
      "outputs": [
        {
          "output_type": "stream",
          "name": "stdout",
          "text": [
            "Model: \"sequential_1\"\n",
            "_________________________________________________________________\n",
            " Layer (type)                Output Shape              Param #   \n",
            "=================================================================\n",
            " lstm (LSTM)                 (None, 60, 50)            10400     \n",
            "                                                                 \n",
            " lstm_1 (LSTM)               (None, 60, 50)            20200     \n",
            "                                                                 \n",
            " lstm_2 (LSTM)               (None, 50)                20200     \n",
            "                                                                 \n",
            " dense (Dense)               (None, 32)                1632      \n",
            "                                                                 \n",
            " dense_1 (Dense)             (None, 1)                 33        \n",
            "                                                                 \n",
            "=================================================================\n",
            "Total params: 52,465\n",
            "Trainable params: 52,465\n",
            "Non-trainable params: 0\n",
            "_________________________________________________________________\n"
          ]
        }
      ],
      "source": [
        "# Adding the first LSTM layer and some Dropout regularisation\n",
        "# Adding a second LSTM layer and some Dropout regularisation\n",
        "# Adding a third LSTM layer and some Dropout regularisation\n",
        "# Adding a fourth LSTM layer and some Dropout regularisation\n",
        "# Adding the output layer\n",
        "# Code here\n",
        "model = Sequential()\n",
        "model.add(LSTM(50, return_sequences = True, input_shape =(60,1)) )\n",
        "model.add(LSTM(50, return_sequences= True))\n",
        "model.add(LSTM(50, return_sequences = False))\n",
        "model.add(Dense(32))\n",
        "model.add(Dense(1))\n",
        "model.compile(loss = 'mean_squared_error', optimizer = 'adam')\n",
        "model.summary()"
      ]
    },
    {
      "cell_type": "code",
      "execution_count": null,
      "metadata": {
        "id": "rTVMT3NCc441"
      },
      "outputs": [],
      "source": [
        "# Compiling the RNN\n",
        "# Code here\n",
        "#Callback\n",
        "from keras.callbacks import EarlyStopping , ModelCheckpoint, ReduceLROnPlateau\n",
        "model_save = ModelCheckpoint('./yuhu.h5', save_best_only = True, save_weights_only = True, monitor = 'loss',\n",
        "                             mode = 'min', verbose = 1)\n",
        "early_stop = EarlyStopping(monitor = 'loss', patience = 25, mode = 'min',\n",
        "                           verbose = 1, restore_best_weights=True)\n",
        "reduce_lr = ReduceLROnPlateau(monitor = 'loss', factor = 0.8, patience = 12,verbose =1, mode ='min' )\n",
        "# callback = EarlyStopping("
      ]
    },
    {
      "cell_type": "code",
      "execution_count": null,
      "metadata": {
        "colab": {
          "base_uri": "https://localhost:8080/"
        },
        "id": "bdeEsdyMbaK_",
        "outputId": "7c004271-e2ef-4b5c-a397-46a07677c1cd"
      },
      "outputs": [
        {
          "output_type": "stream",
          "name": "stdout",
          "text": [
            "Epoch 1/250\n",
            "38/38 [==============================] - 9s 14ms/step - loss: 0.0252 - lr: 0.0010\n",
            "Epoch 2/250\n",
            "38/38 [==============================] - 0s 12ms/step - loss: 0.0017 - lr: 0.0010\n",
            "Epoch 3/250\n",
            "38/38 [==============================] - 0s 10ms/step - loss: 0.0015 - lr: 0.0010\n",
            "Epoch 4/250\n",
            "38/38 [==============================] - 0s 10ms/step - loss: 0.0015 - lr: 0.0010\n",
            "Epoch 5/250\n",
            "38/38 [==============================] - 0s 10ms/step - loss: 0.0014 - lr: 0.0010\n",
            "Epoch 6/250\n",
            "38/38 [==============================] - 0s 10ms/step - loss: 0.0014 - lr: 0.0010\n",
            "Epoch 7/250\n",
            "38/38 [==============================] - 0s 11ms/step - loss: 0.0015 - lr: 0.0010\n",
            "Epoch 8/250\n",
            "38/38 [==============================] - 0s 11ms/step - loss: 0.0013 - lr: 0.0010\n",
            "Epoch 9/250\n",
            "38/38 [==============================] - 0s 11ms/step - loss: 0.0013 - lr: 0.0010\n",
            "Epoch 10/250\n",
            "38/38 [==============================] - 0s 11ms/step - loss: 0.0013 - lr: 0.0010\n",
            "Epoch 11/250\n",
            "38/38 [==============================] - 1s 18ms/step - loss: 0.0015 - lr: 0.0010\n",
            "Epoch 12/250\n",
            "38/38 [==============================] - 1s 16ms/step - loss: 0.0014 - lr: 0.0010\n",
            "Epoch 13/250\n",
            "38/38 [==============================] - 1s 16ms/step - loss: 0.0011 - lr: 0.0010\n",
            "Epoch 14/250\n",
            "38/38 [==============================] - 1s 18ms/step - loss: 0.0012 - lr: 0.0010\n",
            "Epoch 15/250\n",
            "38/38 [==============================] - 1s 14ms/step - loss: 0.0011 - lr: 0.0010\n",
            "Epoch 16/250\n",
            "38/38 [==============================] - 1s 20ms/step - loss: 0.0010 - lr: 0.0010\n",
            "Epoch 17/250\n",
            "38/38 [==============================] - 0s 11ms/step - loss: 0.0013 - lr: 0.0010\n",
            "Epoch 18/250\n",
            "38/38 [==============================] - 0s 11ms/step - loss: 0.0010 - lr: 0.0010\n",
            "Epoch 19/250\n",
            "38/38 [==============================] - 0s 10ms/step - loss: 9.3701e-04 - lr: 0.0010\n",
            "Epoch 20/250\n",
            "38/38 [==============================] - 0s 10ms/step - loss: 9.6242e-04 - lr: 0.0010\n",
            "Epoch 21/250\n",
            "38/38 [==============================] - 0s 10ms/step - loss: 0.0011 - lr: 0.0010\n",
            "Epoch 22/250\n",
            "38/38 [==============================] - 0s 10ms/step - loss: 9.1095e-04 - lr: 0.0010\n",
            "Epoch 23/250\n",
            "38/38 [==============================] - 0s 11ms/step - loss: 9.0116e-04 - lr: 0.0010\n",
            "Epoch 24/250\n",
            "38/38 [==============================] - 0s 11ms/step - loss: 8.6787e-04 - lr: 0.0010\n",
            "Epoch 25/250\n",
            "38/38 [==============================] - 0s 11ms/step - loss: 9.4266e-04 - lr: 0.0010\n",
            "Epoch 26/250\n",
            "38/38 [==============================] - 0s 11ms/step - loss: 8.5496e-04 - lr: 0.0010\n",
            "Epoch 27/250\n",
            "38/38 [==============================] - 0s 11ms/step - loss: 8.0558e-04 - lr: 0.0010\n",
            "Epoch 28/250\n",
            "38/38 [==============================] - 0s 11ms/step - loss: 7.7564e-04 - lr: 0.0010\n",
            "Epoch 29/250\n",
            "38/38 [==============================] - 0s 11ms/step - loss: 7.6763e-04 - lr: 0.0010\n",
            "Epoch 30/250\n",
            "38/38 [==============================] - 0s 11ms/step - loss: 7.0632e-04 - lr: 0.0010\n",
            "Epoch 31/250\n",
            "38/38 [==============================] - 0s 10ms/step - loss: 7.3713e-04 - lr: 0.0010\n",
            "Epoch 32/250\n",
            "38/38 [==============================] - 0s 10ms/step - loss: 7.2508e-04 - lr: 0.0010\n",
            "Epoch 33/250\n",
            "38/38 [==============================] - 0s 10ms/step - loss: 7.8342e-04 - lr: 0.0010\n",
            "Epoch 34/250\n",
            "38/38 [==============================] - 0s 11ms/step - loss: 6.3750e-04 - lr: 0.0010\n",
            "Epoch 35/250\n",
            "38/38 [==============================] - 0s 11ms/step - loss: 6.7976e-04 - lr: 0.0010\n",
            "Epoch 36/250\n",
            "38/38 [==============================] - 0s 11ms/step - loss: 6.2934e-04 - lr: 0.0010\n",
            "Epoch 37/250\n",
            "38/38 [==============================] - 0s 10ms/step - loss: 6.7858e-04 - lr: 0.0010\n",
            "Epoch 38/250\n",
            "38/38 [==============================] - 0s 11ms/step - loss: 5.6686e-04 - lr: 0.0010\n",
            "Epoch 39/250\n",
            "38/38 [==============================] - 0s 11ms/step - loss: 5.4940e-04 - lr: 0.0010\n",
            "Epoch 40/250\n",
            "38/38 [==============================] - 0s 10ms/step - loss: 5.0260e-04 - lr: 0.0010\n",
            "Epoch 41/250\n",
            "38/38 [==============================] - 0s 11ms/step - loss: 6.3886e-04 - lr: 0.0010\n",
            "Epoch 42/250\n",
            "38/38 [==============================] - 0s 10ms/step - loss: 6.3597e-04 - lr: 0.0010\n",
            "Epoch 43/250\n",
            "38/38 [==============================] - 0s 11ms/step - loss: 5.5901e-04 - lr: 0.0010\n",
            "Epoch 44/250\n",
            "38/38 [==============================] - 0s 11ms/step - loss: 5.0356e-04 - lr: 0.0010\n",
            "Epoch 45/250\n",
            "38/38 [==============================] - 0s 10ms/step - loss: 6.8201e-04 - lr: 0.0010\n",
            "Epoch 46/250\n",
            "38/38 [==============================] - 0s 11ms/step - loss: 5.0279e-04 - lr: 0.0010\n",
            "Epoch 47/250\n",
            "38/38 [==============================] - 0s 10ms/step - loss: 4.9666e-04 - lr: 0.0010\n",
            "Epoch 48/250\n",
            "38/38 [==============================] - 0s 10ms/step - loss: 4.4989e-04 - lr: 0.0010\n",
            "Epoch 49/250\n",
            "38/38 [==============================] - 0s 11ms/step - loss: 4.3314e-04 - lr: 0.0010\n",
            "Epoch 50/250\n",
            "38/38 [==============================] - 0s 11ms/step - loss: 4.4382e-04 - lr: 0.0010\n",
            "Epoch 51/250\n",
            "38/38 [==============================] - 0s 11ms/step - loss: 4.2536e-04 - lr: 0.0010\n",
            "Epoch 52/250\n",
            "38/38 [==============================] - ETA: 0s - loss: 4.2452e-04\n",
            "Epoch 52: ReduceLROnPlateau reducing learning rate to 0.000800000037997961.\n",
            "38/38 [==============================] - 0s 10ms/step - loss: 4.2452e-04 - lr: 0.0010\n",
            "Epoch 53/250\n",
            "38/38 [==============================] - 0s 11ms/step - loss: 4.0641e-04 - lr: 8.0000e-04\n",
            "Epoch 54/250\n",
            "38/38 [==============================] - 0s 11ms/step - loss: 3.8302e-04 - lr: 8.0000e-04\n",
            "Epoch 55/250\n",
            "38/38 [==============================] - 0s 10ms/step - loss: 4.2166e-04 - lr: 8.0000e-04\n",
            "Epoch 56/250\n",
            "38/38 [==============================] - 0s 11ms/step - loss: 4.0572e-04 - lr: 8.0000e-04\n",
            "Epoch 57/250\n",
            "38/38 [==============================] - 0s 11ms/step - loss: 3.5975e-04 - lr: 8.0000e-04\n",
            "Epoch 58/250\n",
            "38/38 [==============================] - 0s 11ms/step - loss: 3.6148e-04 - lr: 8.0000e-04\n",
            "Epoch 59/250\n",
            "38/38 [==============================] - 0s 10ms/step - loss: 3.4154e-04 - lr: 8.0000e-04\n",
            "Epoch 60/250\n",
            "38/38 [==============================] - 0s 10ms/step - loss: 3.3273e-04 - lr: 8.0000e-04\n",
            "Epoch 61/250\n",
            "38/38 [==============================] - 0s 10ms/step - loss: 3.4613e-04 - lr: 8.0000e-04\n",
            "Epoch 62/250\n",
            "38/38 [==============================] - 0s 10ms/step - loss: 3.8393e-04 - lr: 8.0000e-04\n",
            "Epoch 63/250\n",
            "38/38 [==============================] - 0s 10ms/step - loss: 3.2248e-04 - lr: 8.0000e-04\n",
            "Epoch 64/250\n",
            "38/38 [==============================] - 0s 11ms/step - loss: 3.5534e-04 - lr: 8.0000e-04\n",
            "Epoch 65/250\n",
            "38/38 [==============================] - 0s 10ms/step - loss: 3.3110e-04 - lr: 8.0000e-04\n",
            "Epoch 66/250\n",
            "37/38 [============================>.] - ETA: 0s - loss: 4.0771e-04\n",
            "Epoch 66: ReduceLROnPlateau reducing learning rate to 0.0006400000303983689.\n",
            "38/38 [==============================] - 0s 11ms/step - loss: 4.0396e-04 - lr: 8.0000e-04\n",
            "Epoch 67/250\n",
            "38/38 [==============================] - 0s 11ms/step - loss: 3.2841e-04 - lr: 6.4000e-04\n",
            "Epoch 68/250\n",
            "38/38 [==============================] - 0s 11ms/step - loss: 3.3890e-04 - lr: 6.4000e-04\n",
            "Epoch 69/250\n",
            "38/38 [==============================] - 0s 10ms/step - loss: 2.9943e-04 - lr: 6.4000e-04\n",
            "Epoch 70/250\n",
            "38/38 [==============================] - 0s 10ms/step - loss: 3.0059e-04 - lr: 6.4000e-04\n",
            "Epoch 71/250\n",
            "38/38 [==============================] - 0s 11ms/step - loss: 3.0370e-04 - lr: 6.4000e-04\n",
            "Epoch 72/250\n",
            "38/38 [==============================] - 0s 11ms/step - loss: 3.0027e-04 - lr: 6.4000e-04\n",
            "Epoch 73/250\n",
            "38/38 [==============================] - 0s 11ms/step - loss: 3.1016e-04 - lr: 6.4000e-04\n",
            "Epoch 74/250\n",
            "38/38 [==============================] - 0s 10ms/step - loss: 2.8234e-04 - lr: 6.4000e-04\n",
            "Epoch 75/250\n",
            "38/38 [==============================] - 0s 11ms/step - loss: 2.9254e-04 - lr: 6.4000e-04\n",
            "Epoch 76/250\n",
            "38/38 [==============================] - 0s 11ms/step - loss: 3.4701e-04 - lr: 6.4000e-04\n",
            "Epoch 77/250\n",
            "38/38 [==============================] - 0s 11ms/step - loss: 3.5447e-04 - lr: 6.4000e-04\n",
            "Epoch 78/250\n",
            "38/38 [==============================] - 0s 11ms/step - loss: 3.3368e-04 - lr: 6.4000e-04\n",
            "Epoch 79/250\n",
            "38/38 [==============================] - 0s 10ms/step - loss: 3.4620e-04 - lr: 6.4000e-04\n",
            "Epoch 80/250\n",
            "38/38 [==============================] - 0s 10ms/step - loss: 2.9556e-04 - lr: 6.4000e-04\n",
            "Epoch 81/250\n",
            "38/38 [==============================] - 0s 11ms/step - loss: 3.5732e-04 - lr: 6.4000e-04\n",
            "Epoch 82/250\n",
            "38/38 [==============================] - 0s 11ms/step - loss: 3.1588e-04 - lr: 6.4000e-04\n",
            "Epoch 83/250\n",
            "38/38 [==============================] - 0s 11ms/step - loss: 3.1387e-04 - lr: 6.4000e-04\n",
            "Epoch 84/250\n",
            "38/38 [==============================] - 0s 10ms/step - loss: 2.9617e-04 - lr: 6.4000e-04\n",
            "Epoch 85/250\n",
            "38/38 [==============================] - 0s 10ms/step - loss: 2.9776e-04 - lr: 6.4000e-04\n",
            "Epoch 86/250\n",
            "36/38 [===========================>..] - ETA: 0s - loss: 3.5864e-04\n",
            "Epoch 86: ReduceLROnPlateau reducing learning rate to 0.0005120000336319208.\n",
            "38/38 [==============================] - 0s 11ms/step - loss: 3.6007e-04 - lr: 6.4000e-04\n",
            "Epoch 87/250\n",
            "38/38 [==============================] - 0s 11ms/step - loss: 2.9743e-04 - lr: 5.1200e-04\n",
            "Epoch 88/250\n",
            "38/38 [==============================] - 0s 11ms/step - loss: 2.8230e-04 - lr: 5.1200e-04\n",
            "Epoch 89/250\n",
            "38/38 [==============================] - 0s 11ms/step - loss: 3.0899e-04 - lr: 5.1200e-04\n",
            "Epoch 90/250\n",
            "38/38 [==============================] - 0s 11ms/step - loss: 3.2139e-04 - lr: 5.1200e-04\n",
            "Epoch 91/250\n",
            "38/38 [==============================] - 0s 10ms/step - loss: 3.4738e-04 - lr: 5.1200e-04\n",
            "Epoch 92/250\n",
            "38/38 [==============================] - 0s 10ms/step - loss: 2.9361e-04 - lr: 5.1200e-04\n",
            "Epoch 93/250\n",
            "38/38 [==============================] - 0s 11ms/step - loss: 2.9709e-04 - lr: 5.1200e-04\n",
            "Epoch 94/250\n",
            "38/38 [==============================] - 0s 10ms/step - loss: 2.9663e-04 - lr: 5.1200e-04\n",
            "Epoch 95/250\n",
            "38/38 [==============================] - 0s 11ms/step - loss: 3.0027e-04 - lr: 5.1200e-04\n",
            "Epoch 96/250\n",
            "38/38 [==============================] - 0s 10ms/step - loss: 3.0529e-04 - lr: 5.1200e-04\n",
            "Epoch 97/250\n",
            "38/38 [==============================] - 0s 10ms/step - loss: 2.9195e-04 - lr: 5.1200e-04\n",
            "Epoch 98/250\n",
            "35/38 [==========================>...] - ETA: 0s - loss: 2.7139e-04\n",
            "Epoch 98: ReduceLROnPlateau reducing learning rate to 0.00040960004553198815.\n",
            "38/38 [==============================] - 0s 11ms/step - loss: 2.7734e-04 - lr: 5.1200e-04\n",
            "Epoch 99/250\n",
            "38/38 [==============================] - 0s 11ms/step - loss: 2.8650e-04 - lr: 4.0960e-04\n",
            "Epoch 100/250\n",
            "38/38 [==============================] - 0s 11ms/step - loss: 3.4405e-04 - lr: 4.0960e-04\n",
            "Epoch 101/250\n",
            "38/38 [==============================] - 0s 11ms/step - loss: 2.8005e-04 - lr: 4.0960e-04\n",
            "Epoch 102/250\n",
            "38/38 [==============================] - 0s 10ms/step - loss: 2.9116e-04 - lr: 4.0960e-04\n",
            "Epoch 103/250\n",
            "38/38 [==============================] - 0s 10ms/step - loss: 3.0559e-04 - lr: 4.0960e-04\n",
            "Epoch 104/250\n",
            "38/38 [==============================] - 0s 10ms/step - loss: 2.8380e-04 - lr: 4.0960e-04\n",
            "Epoch 105/250\n",
            "38/38 [==============================] - 0s 10ms/step - loss: 2.9764e-04 - lr: 4.0960e-04\n",
            "Epoch 106/250\n",
            "38/38 [==============================] - 0s 11ms/step - loss: 2.9926e-04 - lr: 4.0960e-04\n",
            "Epoch 107/250\n",
            "38/38 [==============================] - 0s 11ms/step - loss: 2.9957e-04 - lr: 4.0960e-04\n",
            "Epoch 108/250\n",
            "38/38 [==============================] - 0s 11ms/step - loss: 2.8577e-04 - lr: 4.0960e-04\n",
            "Epoch 109/250\n",
            "38/38 [==============================] - 0s 11ms/step - loss: 2.7422e-04 - lr: 4.0960e-04\n",
            "Epoch 110/250\n",
            "36/38 [===========================>..] - ETA: 0s - loss: 2.8260e-04\n",
            "Epoch 110: ReduceLROnPlateau reducing learning rate to 0.00032768002711236477.\n",
            "38/38 [==============================] - 0s 11ms/step - loss: 2.8122e-04 - lr: 4.0960e-04\n",
            "Epoch 111/250\n",
            "38/38 [==============================] - 0s 11ms/step - loss: 2.8206e-04 - lr: 3.2768e-04\n",
            "Epoch 112/250\n",
            "38/38 [==============================] - 0s 10ms/step - loss: 2.8580e-04 - lr: 3.2768e-04\n",
            "Epoch 113/250\n",
            "38/38 [==============================] - 0s 11ms/step - loss: 3.2061e-04 - lr: 3.2768e-04\n",
            "Epoch 114/250\n",
            "38/38 [==============================] - 0s 10ms/step - loss: 3.1223e-04 - lr: 3.2768e-04\n",
            "Epoch 115/250\n",
            "38/38 [==============================] - 0s 10ms/step - loss: 2.8790e-04 - lr: 3.2768e-04\n",
            "Epoch 116/250\n",
            "38/38 [==============================] - 0s 11ms/step - loss: 2.9814e-04 - lr: 3.2768e-04\n",
            "Epoch 117/250\n",
            "38/38 [==============================] - 0s 10ms/step - loss: 2.8890e-04 - lr: 3.2768e-04\n",
            "Epoch 118/250\n",
            "38/38 [==============================] - 0s 11ms/step - loss: 2.7404e-04 - lr: 3.2768e-04\n",
            "Epoch 119/250\n",
            "38/38 [==============================] - 0s 10ms/step - loss: 2.8298e-04 - lr: 3.2768e-04\n",
            "Epoch 120/250\n",
            "38/38 [==============================] - 0s 10ms/step - loss: 2.8380e-04 - lr: 3.2768e-04\n",
            "Epoch 121/250\n",
            "38/38 [==============================] - 0s 11ms/step - loss: 3.1230e-04 - lr: 3.2768e-04\n",
            "Epoch 122/250\n",
            "36/38 [===========================>..] - ETA: 0s - loss: 3.3744e-04\n",
            "Epoch 122: ReduceLROnPlateau reducing learning rate to 0.0002621440216898918.\n",
            "38/38 [==============================] - 0s 11ms/step - loss: 3.3012e-04 - lr: 3.2768e-04\n",
            "Epoch 123/250\n",
            "38/38 [==============================] - 0s 11ms/step - loss: 2.8594e-04 - lr: 2.6214e-04\n",
            "Epoch 124/250\n",
            "38/38 [==============================] - 0s 11ms/step - loss: 2.7329e-04 - lr: 2.6214e-04\n",
            "Epoch 125/250\n",
            "38/38 [==============================] - 0s 11ms/step - loss: 2.7924e-04 - lr: 2.6214e-04\n",
            "Epoch 126/250\n",
            "38/38 [==============================] - 0s 11ms/step - loss: 2.6962e-04 - lr: 2.6214e-04\n",
            "Epoch 127/250\n",
            "38/38 [==============================] - 0s 11ms/step - loss: 2.8213e-04 - lr: 2.6214e-04\n",
            "Epoch 128/250\n",
            "38/38 [==============================] - 0s 11ms/step - loss: 3.3407e-04 - lr: 2.6214e-04\n",
            "Epoch 129/250\n",
            "38/38 [==============================] - 0s 11ms/step - loss: 2.8772e-04 - lr: 2.6214e-04\n",
            "Epoch 130/250\n",
            "38/38 [==============================] - 0s 11ms/step - loss: 2.7408e-04 - lr: 2.6214e-04\n",
            "Epoch 131/250\n",
            "38/38 [==============================] - 0s 11ms/step - loss: 2.9566e-04 - lr: 2.6214e-04\n",
            "Epoch 132/250\n",
            "38/38 [==============================] - 0s 10ms/step - loss: 2.7133e-04 - lr: 2.6214e-04\n",
            "Epoch 133/250\n",
            "38/38 [==============================] - 0s 11ms/step - loss: 2.8338e-04 - lr: 2.6214e-04\n",
            "Epoch 134/250\n",
            "36/38 [===========================>..] - ETA: 0s - loss: 2.9600e-04\n",
            "Epoch 134: ReduceLROnPlateau reducing learning rate to 0.00020971521735191345.\n",
            "38/38 [==============================] - 0s 11ms/step - loss: 2.9476e-04 - lr: 2.6214e-04\n",
            "Epoch 135/250\n",
            "38/38 [==============================] - 0s 11ms/step - loss: 2.8306e-04 - lr: 2.0972e-04\n",
            "Epoch 136/250\n",
            "38/38 [==============================] - 0s 11ms/step - loss: 2.7561e-04 - lr: 2.0972e-04\n",
            "Epoch 137/250\n",
            "38/38 [==============================] - 0s 11ms/step - loss: 3.1433e-04 - lr: 2.0972e-04\n",
            "Epoch 138/250\n",
            "38/38 [==============================] - 0s 11ms/step - loss: 2.6647e-04 - lr: 2.0972e-04\n",
            "Epoch 139/250\n",
            "38/38 [==============================] - 0s 11ms/step - loss: 2.7239e-04 - lr: 2.0972e-04\n",
            "Epoch 140/250\n",
            "38/38 [==============================] - 0s 11ms/step - loss: 2.6614e-04 - lr: 2.0972e-04\n",
            "Epoch 141/250\n",
            "38/38 [==============================] - 0s 11ms/step - loss: 2.7958e-04 - lr: 2.0972e-04\n",
            "Epoch 142/250\n",
            "38/38 [==============================] - 0s 11ms/step - loss: 2.7267e-04 - lr: 2.0972e-04\n",
            "Epoch 143/250\n",
            "38/38 [==============================] - 0s 11ms/step - loss: 2.8723e-04 - lr: 2.0972e-04\n",
            "Epoch 144/250\n",
            "38/38 [==============================] - 0s 11ms/step - loss: 2.8812e-04 - lr: 2.0972e-04\n",
            "Epoch 145/250\n",
            "38/38 [==============================] - 0s 11ms/step - loss: 2.8003e-04 - lr: 2.0972e-04\n",
            "Epoch 146/250\n",
            "37/38 [============================>.] - ETA: 0s - loss: 2.6385e-04\n",
            "Epoch 146: ReduceLROnPlateau reducing learning rate to 0.00016777217388153076.\n",
            "38/38 [==============================] - 0s 10ms/step - loss: 2.6717e-04 - lr: 2.0972e-04\n",
            "Epoch 147/250\n",
            "38/38 [==============================] - 0s 11ms/step - loss: 2.7399e-04 - lr: 1.6777e-04\n",
            "Epoch 148/250\n",
            "38/38 [==============================] - 0s 11ms/step - loss: 2.6715e-04 - lr: 1.6777e-04\n",
            "Epoch 149/250\n",
            "38/38 [==============================] - 0s 10ms/step - loss: 2.6772e-04 - lr: 1.6777e-04\n",
            "Epoch 150/250\n",
            "38/38 [==============================] - 0s 11ms/step - loss: 2.7351e-04 - lr: 1.6777e-04\n",
            "Epoch 151/250\n",
            "38/38 [==============================] - 0s 11ms/step - loss: 2.8469e-04 - lr: 1.6777e-04\n",
            "Epoch 152/250\n",
            "38/38 [==============================] - 0s 11ms/step - loss: 2.6391e-04 - lr: 1.6777e-04\n",
            "Epoch 153/250\n",
            "38/38 [==============================] - 0s 11ms/step - loss: 2.7661e-04 - lr: 1.6777e-04\n",
            "Epoch 154/250\n",
            "38/38 [==============================] - 0s 10ms/step - loss: 2.8427e-04 - lr: 1.6777e-04\n",
            "Epoch 155/250\n",
            "38/38 [==============================] - 0s 11ms/step - loss: 2.7176e-04 - lr: 1.6777e-04\n",
            "Epoch 156/250\n",
            "38/38 [==============================] - 0s 11ms/step - loss: 2.6666e-04 - lr: 1.6777e-04\n",
            "Epoch 157/250\n",
            "38/38 [==============================] - 0s 10ms/step - loss: 2.7120e-04 - lr: 1.6777e-04\n",
            "Epoch 158/250\n",
            "36/38 [===========================>..] - ETA: 0s - loss: 2.5008e-04\n",
            "Epoch 158: ReduceLROnPlateau reducing learning rate to 0.00013421773910522462.\n",
            "38/38 [==============================] - 0s 11ms/step - loss: 2.6978e-04 - lr: 1.6777e-04\n",
            "Epoch 159/250\n",
            "38/38 [==============================] - 0s 11ms/step - loss: 2.7172e-04 - lr: 1.3422e-04\n",
            "Epoch 160/250\n",
            "38/38 [==============================] - 0s 11ms/step - loss: 2.7272e-04 - lr: 1.3422e-04\n",
            "Epoch 161/250\n",
            "38/38 [==============================] - 0s 10ms/step - loss: 2.8322e-04 - lr: 1.3422e-04\n",
            "Epoch 162/250\n",
            "38/38 [==============================] - 0s 11ms/step - loss: 2.8704e-04 - lr: 1.3422e-04\n",
            "Epoch 163/250\n",
            "38/38 [==============================] - 0s 10ms/step - loss: 2.8859e-04 - lr: 1.3422e-04\n",
            "Epoch 164/250\n",
            "38/38 [==============================] - 0s 10ms/step - loss: 2.6663e-04 - lr: 1.3422e-04\n",
            "Epoch 165/250\n",
            "38/38 [==============================] - 0s 11ms/step - loss: 2.8501e-04 - lr: 1.3422e-04\n",
            "Epoch 166/250\n",
            "38/38 [==============================] - 0s 11ms/step - loss: 2.7251e-04 - lr: 1.3422e-04\n",
            "Epoch 167/250\n",
            "38/38 [==============================] - 0s 11ms/step - loss: 2.7133e-04 - lr: 1.3422e-04\n",
            "Epoch 168/250\n",
            "38/38 [==============================] - 0s 10ms/step - loss: 2.7179e-04 - lr: 1.3422e-04\n",
            "Epoch 169/250\n",
            "38/38 [==============================] - 0s 10ms/step - loss: 2.7949e-04 - lr: 1.3422e-04\n",
            "Epoch 170/250\n",
            "37/38 [============================>.] - ETA: 0s - loss: 3.0857e-04\n",
            "Epoch 170: ReduceLROnPlateau reducing learning rate to 0.00010737419361248613.\n",
            "38/38 [==============================] - 0s 11ms/step - loss: 3.0963e-04 - lr: 1.3422e-04\n",
            "Epoch 171/250\n",
            "38/38 [==============================] - 0s 11ms/step - loss: 2.6983e-04 - lr: 1.0737e-04\n",
            "Epoch 172/250\n",
            "38/38 [==============================] - 0s 11ms/step - loss: 2.7362e-04 - lr: 1.0737e-04\n",
            "Epoch 173/250\n",
            "38/38 [==============================] - 0s 11ms/step - loss: 2.6220e-04 - lr: 1.0737e-04\n",
            "Epoch 174/250\n",
            "38/38 [==============================] - 0s 11ms/step - loss: 2.6805e-04 - lr: 1.0737e-04\n",
            "Epoch 175/250\n",
            "38/38 [==============================] - 0s 11ms/step - loss: 2.7091e-04 - lr: 1.0737e-04\n",
            "Epoch 176/250\n",
            "38/38 [==============================] - 0s 10ms/step - loss: 2.7236e-04 - lr: 1.0737e-04\n",
            "Epoch 177/250\n",
            "38/38 [==============================] - 0s 11ms/step - loss: 2.6437e-04 - lr: 1.0737e-04\n",
            "Epoch 178/250\n",
            "38/38 [==============================] - 0s 11ms/step - loss: 2.6090e-04 - lr: 1.0737e-04\n",
            "Epoch 179/250\n",
            "38/38 [==============================] - 0s 11ms/step - loss: 2.6220e-04 - lr: 1.0737e-04\n",
            "Epoch 180/250\n",
            "38/38 [==============================] - 0s 11ms/step - loss: 2.6188e-04 - lr: 1.0737e-04\n",
            "Epoch 181/250\n",
            "38/38 [==============================] - 0s 11ms/step - loss: 2.6149e-04 - lr: 1.0737e-04\n",
            "Epoch 182/250\n",
            "36/38 [===========================>..] - ETA: 0s - loss: 2.7516e-04\n",
            "Epoch 182: ReduceLROnPlateau reducing learning rate to 8.589935605414213e-05.\n",
            "38/38 [==============================] - 0s 11ms/step - loss: 2.7545e-04 - lr: 1.0737e-04\n",
            "Epoch 183/250\n",
            "38/38 [==============================] - 0s 11ms/step - loss: 2.5919e-04 - lr: 8.5899e-05\n",
            "Epoch 184/250\n",
            "38/38 [==============================] - 0s 11ms/step - loss: 2.6446e-04 - lr: 8.5899e-05\n",
            "Epoch 185/250\n",
            "38/38 [==============================] - 0s 11ms/step - loss: 2.6672e-04 - lr: 8.5899e-05\n",
            "Epoch 186/250\n",
            "38/38 [==============================] - 0s 11ms/step - loss: 2.6672e-04 - lr: 8.5899e-05\n",
            "Epoch 187/250\n",
            "38/38 [==============================] - 0s 11ms/step - loss: 2.7146e-04 - lr: 8.5899e-05\n",
            "Epoch 188/250\n",
            "38/38 [==============================] - 0s 11ms/step - loss: 2.5780e-04 - lr: 8.5899e-05\n",
            "Epoch 189/250\n",
            "38/38 [==============================] - 0s 11ms/step - loss: 2.6419e-04 - lr: 8.5899e-05\n",
            "Epoch 190/250\n",
            "38/38 [==============================] - 0s 10ms/step - loss: 2.6384e-04 - lr: 8.5899e-05\n",
            "Epoch 191/250\n",
            "38/38 [==============================] - 0s 11ms/step - loss: 2.7407e-04 - lr: 8.5899e-05\n",
            "Epoch 192/250\n",
            "38/38 [==============================] - 0s 11ms/step - loss: 2.6706e-04 - lr: 8.5899e-05\n",
            "Epoch 193/250\n",
            "38/38 [==============================] - 0s 11ms/step - loss: 2.6300e-04 - lr: 8.5899e-05\n",
            "Epoch 194/250\n",
            "36/38 [===========================>..] - ETA: 0s - loss: 2.6406e-04\n",
            "Epoch 194: ReduceLROnPlateau reducing learning rate to 6.871948717162013e-05.\n",
            "38/38 [==============================] - 0s 11ms/step - loss: 2.6296e-04 - lr: 8.5899e-05\n",
            "Epoch 195/250\n",
            "38/38 [==============================] - 0s 11ms/step - loss: 2.5950e-04 - lr: 6.8719e-05\n",
            "Epoch 196/250\n",
            "38/38 [==============================] - 0s 11ms/step - loss: 2.6537e-04 - lr: 6.8719e-05\n",
            "Epoch 197/250\n",
            "38/38 [==============================] - 0s 11ms/step - loss: 2.6757e-04 - lr: 6.8719e-05\n",
            "Epoch 198/250\n",
            "38/38 [==============================] - 0s 11ms/step - loss: 2.5853e-04 - lr: 6.8719e-05\n",
            "Epoch 199/250\n",
            "38/38 [==============================] - 0s 11ms/step - loss: 2.5766e-04 - lr: 6.8719e-05\n",
            "Epoch 200/250\n",
            "38/38 [==============================] - 0s 11ms/step - loss: 2.5842e-04 - lr: 6.8719e-05\n",
            "Epoch 201/250\n",
            "38/38 [==============================] - 0s 11ms/step - loss: 2.5781e-04 - lr: 6.8719e-05\n",
            "Epoch 202/250\n",
            "38/38 [==============================] - 0s 11ms/step - loss: 2.6874e-04 - lr: 6.8719e-05\n",
            "Epoch 203/250\n",
            "38/38 [==============================] - 0s 11ms/step - loss: 2.6340e-04 - lr: 6.8719e-05\n",
            "Epoch 204/250\n",
            "38/38 [==============================] - 0s 11ms/step - loss: 2.6471e-04 - lr: 6.8719e-05\n",
            "Epoch 205/250\n",
            "38/38 [==============================] - 0s 11ms/step - loss: 2.6743e-04 - lr: 6.8719e-05\n",
            "Epoch 206/250\n",
            "36/38 [===========================>..] - ETA: 0s - loss: 2.4355e-04\n",
            "Epoch 206: ReduceLROnPlateau reducing learning rate to 5.497558740898967e-05.\n",
            "38/38 [==============================] - 0s 11ms/step - loss: 2.6424e-04 - lr: 6.8719e-05\n",
            "Epoch 207/250\n",
            "38/38 [==============================] - 0s 11ms/step - loss: 2.6298e-04 - lr: 5.4976e-05\n",
            "Epoch 208/250\n",
            "38/38 [==============================] - 0s 11ms/step - loss: 2.5709e-04 - lr: 5.4976e-05\n",
            "Epoch 209/250\n",
            "38/38 [==============================] - 0s 11ms/step - loss: 2.5767e-04 - lr: 5.4976e-05\n",
            "Epoch 210/250\n",
            "38/38 [==============================] - 0s 11ms/step - loss: 2.5602e-04 - lr: 5.4976e-05\n",
            "Epoch 211/250\n",
            "38/38 [==============================] - 0s 11ms/step - loss: 2.5751e-04 - lr: 5.4976e-05\n",
            "Epoch 212/250\n",
            "38/38 [==============================] - 0s 11ms/step - loss: 2.6173e-04 - lr: 5.4976e-05\n",
            "Epoch 213/250\n",
            "38/38 [==============================] - 0s 11ms/step - loss: 2.5923e-04 - lr: 5.4976e-05\n",
            "Epoch 214/250\n",
            "38/38 [==============================] - 0s 11ms/step - loss: 2.5942e-04 - lr: 5.4976e-05\n",
            "Epoch 215/250\n",
            "38/38 [==============================] - 0s 12ms/step - loss: 2.6316e-04 - lr: 5.4976e-05\n",
            "Epoch 216/250\n",
            "38/38 [==============================] - 0s 11ms/step - loss: 2.5897e-04 - lr: 5.4976e-05\n",
            "Epoch 217/250\n",
            "38/38 [==============================] - 0s 11ms/step - loss: 2.6656e-04 - lr: 5.4976e-05\n",
            "Epoch 218/250\n",
            "36/38 [===========================>..] - ETA: 0s - loss: 2.6463e-04\n",
            "Epoch 218: ReduceLROnPlateau reducing learning rate to 4.398046876303852e-05.\n",
            "38/38 [==============================] - 0s 11ms/step - loss: 2.6035e-04 - lr: 5.4976e-05\n",
            "Epoch 219/250\n",
            "38/38 [==============================] - 0s 11ms/step - loss: 2.6064e-04 - lr: 4.3980e-05\n",
            "Epoch 220/250\n",
            "38/38 [==============================] - 0s 10ms/step - loss: 2.5624e-04 - lr: 4.3980e-05\n",
            "Epoch 221/250\n",
            "38/38 [==============================] - 0s 11ms/step - loss: 2.5759e-04 - lr: 4.3980e-05\n",
            "Epoch 222/250\n",
            "38/38 [==============================] - 0s 11ms/step - loss: 2.5808e-04 - lr: 4.3980e-05\n",
            "Epoch 223/250\n",
            "38/38 [==============================] - 0s 11ms/step - loss: 2.6890e-04 - lr: 4.3980e-05\n",
            "Epoch 224/250\n",
            "38/38 [==============================] - 0s 11ms/step - loss: 2.6200e-04 - lr: 4.3980e-05\n",
            "Epoch 225/250\n",
            "38/38 [==============================] - 0s 11ms/step - loss: 2.5703e-04 - lr: 4.3980e-05\n",
            "Epoch 226/250\n",
            "38/38 [==============================] - 0s 12ms/step - loss: 2.6129e-04 - lr: 4.3980e-05\n",
            "Epoch 227/250\n",
            "38/38 [==============================] - 0s 11ms/step - loss: 2.5544e-04 - lr: 4.3980e-05\n",
            "Epoch 228/250\n",
            "38/38 [==============================] - 0s 11ms/step - loss: 2.6821e-04 - lr: 4.3980e-05\n",
            "Epoch 229/250\n",
            "38/38 [==============================] - 0s 11ms/step - loss: 2.5895e-04 - lr: 4.3980e-05\n",
            "Epoch 230/250\n",
            "35/38 [==========================>...] - ETA: 0s - loss: 2.4656e-04\n",
            "Epoch 230: ReduceLROnPlateau reducing learning rate to 3.518437442835421e-05.\n",
            "38/38 [==============================] - 0s 11ms/step - loss: 2.5664e-04 - lr: 4.3980e-05\n",
            "Epoch 231/250\n",
            "38/38 [==============================] - 0s 11ms/step - loss: 2.5562e-04 - lr: 3.5184e-05\n",
            "Epoch 232/250\n",
            "38/38 [==============================] - 0s 11ms/step - loss: 2.6243e-04 - lr: 3.5184e-05\n",
            "Epoch 233/250\n",
            "38/38 [==============================] - 0s 11ms/step - loss: 2.5788e-04 - lr: 3.5184e-05\n",
            "Epoch 234/250\n",
            "38/38 [==============================] - 0s 11ms/step - loss: 2.5614e-04 - lr: 3.5184e-05\n",
            "Epoch 235/250\n",
            "38/38 [==============================] - 0s 11ms/step - loss: 2.5531e-04 - lr: 3.5184e-05\n",
            "Epoch 236/250\n",
            "38/38 [==============================] - 0s 11ms/step - loss: 2.5727e-04 - lr: 3.5184e-05\n",
            "Epoch 237/250\n",
            "38/38 [==============================] - 0s 11ms/step - loss: 2.5745e-04 - lr: 3.5184e-05\n",
            "Epoch 238/250\n",
            "38/38 [==============================] - 0s 11ms/step - loss: 2.6087e-04 - lr: 3.5184e-05\n",
            "Epoch 239/250\n",
            "38/38 [==============================] - 0s 11ms/step - loss: 2.5637e-04 - lr: 3.5184e-05\n",
            "Epoch 240/250\n",
            "38/38 [==============================] - 0s 11ms/step - loss: 2.5568e-04 - lr: 3.5184e-05\n",
            "Epoch 241/250\n",
            "38/38 [==============================] - 0s 11ms/step - loss: 2.5776e-04 - lr: 3.5184e-05\n",
            "Epoch 242/250\n",
            "36/38 [===========================>..] - ETA: 0s - loss: 2.4790e-04\n",
            "Epoch 242: ReduceLROnPlateau reducing learning rate to 2.8147498960606756e-05.\n",
            "38/38 [==============================] - 0s 11ms/step - loss: 2.5377e-04 - lr: 3.5184e-05\n",
            "Epoch 243/250\n",
            "38/38 [==============================] - 0s 11ms/step - loss: 2.5532e-04 - lr: 2.8147e-05\n",
            "Epoch 244/250\n",
            "38/38 [==============================] - 0s 10ms/step - loss: 2.5480e-04 - lr: 2.8147e-05\n",
            "Epoch 245/250\n",
            "38/38 [==============================] - 0s 11ms/step - loss: 2.5819e-04 - lr: 2.8147e-05\n",
            "Epoch 246/250\n",
            "38/38 [==============================] - 0s 11ms/step - loss: 2.5296e-04 - lr: 2.8147e-05\n",
            "Epoch 247/250\n",
            "38/38 [==============================] - 0s 11ms/step - loss: 2.5389e-04 - lr: 2.8147e-05\n",
            "Epoch 248/250\n",
            "38/38 [==============================] - 0s 11ms/step - loss: 2.5582e-04 - lr: 2.8147e-05\n",
            "Epoch 249/250\n",
            "38/38 [==============================] - 0s 11ms/step - loss: 2.5663e-04 - lr: 2.8147e-05\n",
            "Epoch 250/250\n",
            "38/38 [==============================] - 0s 11ms/step - loss: 2.5478e-04 - lr: 2.8147e-05\n"
          ]
        }
      ],
      "source": [
        "# Fitting the RNN to the Training set\n",
        "epoch = 250\n",
        "batch_size = 32\n",
        "# history = model.fit(X_train, y_train, epochs = epoch, batch_size = batch_size)\n",
        "history = model.fit(X_train, y_train, epochs = epoch, batch_size = batch_size, callbacks = [early_stop, reduce_lr])"
      ]
    },
    {
      "cell_type": "code",
      "execution_count": null,
      "metadata": {
        "id": "YY1jzgAJbaK_"
      },
      "outputs": [],
      "source": [
        "# Making the predictions and visualising the results\n",
        "# Getting the real stock price of 2017\n",
        "dataset_test = pd.read_csv('/content/drive/MyDrive/Google_Stock_Price_Test.csv - Google_Stock_Price_Test.csv.csv',index_col=\"Date\",parse_dates=True)"
      ]
    },
    {
      "cell_type": "code",
      "execution_count": null,
      "metadata": {
        "id": "lpCnXKbFbaLA"
      },
      "outputs": [],
      "source": [
        "real_stock_price = dataset_test.iloc[:, 1:2].values"
      ]
    },
    {
      "cell_type": "code",
      "execution_count": null,
      "metadata": {
        "id": "WIDgUe-DbaLA"
      },
      "outputs": [],
      "source": [
        "dataset_test[\"Volume\"] = dataset_test[\"Volume\"].str.replace(',', '').astype(float)"
      ]
    },
    {
      "cell_type": "code",
      "execution_count": null,
      "metadata": {
        "id": "WzYa7xURbaLB"
      },
      "outputs": [],
      "source": [
        "test_set=dataset_test['Open']\n",
        "test_set=pd.DataFrame(test_set)"
      ]
    },
    {
      "cell_type": "code",
      "execution_count": null,
      "metadata": {
        "id": "PcruOHHqbaLB",
        "colab": {
          "base_uri": "https://localhost:8080/"
        },
        "outputId": "4a88fd46-9957-437e-b84e-93b0bf6ad36a"
      },
      "outputs": [
        {
          "output_type": "stream",
          "name": "stdout",
          "text": [
            "<class 'pandas.core.frame.DataFrame'>\n",
            "DatetimeIndex: 20 entries, 2017-01-03 to 2017-01-31\n",
            "Data columns (total 1 columns):\n",
            " #   Column  Non-Null Count  Dtype  \n",
            "---  ------  --------------  -----  \n",
            " 0   Open    20 non-null     float64\n",
            "dtypes: float64(1)\n",
            "memory usage: 320.0 bytes\n"
          ]
        }
      ],
      "source": [
        "test_set.info()"
      ]
    },
    {
      "cell_type": "code",
      "execution_count": null,
      "metadata": {
        "id": "WKSGk59LbaLC",
        "colab": {
          "base_uri": "https://localhost:8080/"
        },
        "outputId": "17040161-6bd5-4c0b-a3b9-0878ec2fe3b7"
      },
      "outputs": [
        {
          "output_type": "stream",
          "name": "stderr",
          "text": [
            "/usr/local/lib/python3.7/dist-packages/sklearn/base.py:451: UserWarning: X does not have valid feature names, but MinMaxScaler was fitted with feature names\n",
            "  \"X does not have valid feature names, but\"\n"
          ]
        }
      ],
      "source": [
        "# Getting the predicted stock price of 2017\n",
        "dataset_total = pd.concat((dataset['Open'], dataset_test['Open']), axis = 0)\n",
        "inputs = dataset_total[len(dataset_total) - len(dataset_test) - 60:].values\n",
        "inputs = inputs.reshape(-1,1)\n",
        "inputs = sc.transform(inputs)\n",
        "X_test = []\n",
        "for i in range(60, 80):\n",
        "    X_test.append(inputs[i-60:i, 0])\n",
        "X_test = np.array(X_test)\n",
        "X_test = np.reshape(X_test, (X_test.shape[0], X_test.shape[1], 1))\n",
        "predicted_stock_price = model.predict(X_test)\n",
        "predicted_stock_price = sc.inverse_transform(predicted_stock_price)"
      ]
    },
    {
      "cell_type": "code",
      "execution_count": null,
      "metadata": {
        "id": "KBDqv8A9baLC",
        "colab": {
          "base_uri": "https://localhost:8080/"
        },
        "outputId": "2004ff7f-0910-44fe-a0ae-ecca79daea3c"
      },
      "outputs": [
        {
          "output_type": "stream",
          "name": "stdout",
          "text": [
            "<class 'pandas.core.frame.DataFrame'>\n",
            "RangeIndex: 20 entries, 0 to 19\n",
            "Data columns (total 1 columns):\n",
            " #   Column  Non-Null Count  Dtype  \n",
            "---  ------  --------------  -----  \n",
            " 0   0       20 non-null     float32\n",
            "dtypes: float32(1)\n",
            "memory usage: 208.0 bytes\n"
          ]
        }
      ],
      "source": [
        "predicted_stock_price=pd.DataFrame(predicted_stock_price)\n",
        "predicted_stock_price.info()"
      ]
    },
    {
      "cell_type": "code",
      "execution_count": null,
      "metadata": {
        "id": "eDZyX3IybaLC",
        "colab": {
          "base_uri": "https://localhost:8080/",
          "height": 295
        },
        "outputId": "5c22a73b-a665-4d41-83cb-171c69dee644"
      },
      "outputs": [
        {
          "output_type": "display_data",
          "data": {
            "text/plain": [
              "<Figure size 432x288 with 1 Axes>"
            ],
            "image/png": "[encoded data removed]"
          },
          "metadata": {
            "needs_background": "light"
          }
        }
      ],
      "source": [
        "# Visualising the results\n",
        "plt.plot(real_stock_price, color = 'red', label = 'Real Google Stock Price')\n",
        "plt.plot(predicted_stock_price, color = 'blue', label = 'Predicted Google Stock Price')\n",
        "plt.title('Google Stock Price Prediction')\n",
        "plt.xlabel('Time')\n",
        "plt.ylabel('Google Stock Price')\n",
        "plt.legend()\n",
        "plt.show()"
      ]
    },
    {
      "cell_type": "code",
      "source": [],
      "metadata": {
        "id": "hYY-lRwRIzNS"
      },
      "execution_count": null,
      "outputs": []
    }
  ],
  "metadata": {
    "colab": {
      "provenance": [],
      "collapsed_sections": []
    },
    "kernelspec": {
      "display_name": "Python 3",
      "language": "python",
      "name": "python3"
    },
    "language_info": {
      "codemirror_mode": {
        "name": "ipython",
        "version": 3
      },
      "file_extension": ".py",
      "mimetype": "text/x-python",
      "name": "python",
      "nbconvert_exporter": "python",
      "pygments_lexer": "ipython3",
      "version": "3.6.4"
    },
    "accelerator": "GPU",
    "gpuClass": "standard"
  },
  "nbformat": 4,
  "nbformat_minor": 0
}